{
 "cells": [
  {
   "cell_type": "code",
   "execution_count": 200,
   "id": "1ddc75b9",
   "metadata": {},
   "outputs": [],
   "source": [
    "import requests\n",
    "from bs4 import BeautifulSoup\n",
    "import tabulate\n",
    "import pandas as pd"
   ]
  },
  {
   "cell_type": "markdown",
   "id": "13cfeeea",
   "metadata": {},
   "source": [
    "## Liens des pages pour le scrapping"
   ]
  },
  {
   "cell_type": "code",
   "execution_count": 201,
   "id": "e861b293",
   "metadata": {},
   "outputs": [],
   "source": [
    "url = \"https://basketlfb.com/equipes?season=\"\n",
    "url2 = \"https://basketlfb.com\""
   ]
  },
  {
   "cell_type": "markdown",
   "id": "507de0c9",
   "metadata": {},
   "source": [
    "## Récuperation des liens pour accéder aux données des Saisons"
   ]
  },
  {
   "cell_type": "code",
   "execution_count": 202,
   "id": "73473343",
   "metadata": {},
   "outputs": [],
   "source": [
    "response = requests.get(url)"
   ]
  },
  {
   "cell_type": "code",
   "execution_count": 203,
   "id": "cf7adfe6",
   "metadata": {},
   "outputs": [],
   "source": [
    "links = []  # Tableaux contenant les liens pour accéder à une saison"
   ]
  },
  {
   "cell_type": "code",
   "execution_count": 204,
   "id": "dcb4e65c",
   "metadata": {},
   "outputs": [],
   "source": [
    "if response.ok :\n",
    "    soup = BeautifulSoup(response.text)\n",
    "    options = soup.findAll('option')\n",
    "    for option in options :\n",
    "        annee = option[\"value\"]\n",
    "        links.append(url + annee )\n",
    "        "
   ]
  },
  {
   "cell_type": "markdown",
   "id": "23a25e2b",
   "metadata": {},
   "source": [
    "## Récuperation des statiques des joueuses"
   ]
  },
  {
   "cell_type": "code",
   "execution_count": 205,
   "id": "5e7c9e9f",
   "metadata": {},
   "outputs": [],
   "source": [
    "table = []\n",
    "\n",
    "for link in links : \n",
    "    pageResponse = requests.get(link)\n",
    "    links_equipes = []  #  Tableaux contenant les liens pour accéder à une équipe\n",
    "    if pageResponse.ok :\n",
    "        soup1 = BeautifulSoup(pageResponse.content)\n",
    "        equipes = soup1.find_all(\"a\",{\"class\" : \"generic__btn generic__btn__sm\"})\n",
    "        for equipe in equipes :\n",
    "            href = equipe[\"href\"]\n",
    "            links_equipes.append(\"https://basketlfb.com\" + href)\n"
   ]
  },
  {
   "cell_type": "code",
   "execution_count": 206,
   "id": "6ae2fda9",
   "metadata": {},
   "outputs": [],
   "source": [
    "urlEquipe = links_equipes[3]\n",
    "responeEquipe = requests.get(urlEquipe)\n",
    "links_joueurs = []\n",
    "\n",
    "if responeEquipe.ok :\n",
    "    soup = BeautifulSoup(responeEquipe.content)\n",
    "    joueurs = soup.find_all(\"a\",{\"class\": \"team-entry__roster__link\"})\n",
    "    for joueur in joueurs :\n",
    "        j  = joueur[\"href\"]\n",
    "        links_joueurs.append(\"https://basketlfb.com\" + j)\n"
   ]
  },
  {
   "cell_type": "code",
   "execution_count": 207,
   "id": "da116b4b",
   "metadata": {},
   "outputs": [],
   "source": [
    "def split_link(url):\n",
    "       element = url.rsplit('/', 1)[-1].rsplit('-', 1)[-1]\n",
    "       return element.upper()"
   ]
  },
  {
   "cell_type": "code",
   "execution_count": 209,
   "id": "6b4e9373",
   "metadata": {},
   "outputs": [
    {
     "ename": "IndexError",
     "evalue": "list index out of range",
     "output_type": "error",
     "traceback": [
      "\u001b[0;31m---------------------------------------------------------------------------\u001b[0m",
      "\u001b[0;31mIndexError\u001b[0m                                Traceback (most recent call last)",
      "Cell \u001b[0;32mIn[209], line 12\u001b[0m\n\u001b[1;32m     10\u001b[0m \u001b[38;5;66;03m# Trouver le premier tableau sur la page\u001b[39;00m\n\u001b[1;32m     11\u001b[0m tableaux \u001b[38;5;241m=\u001b[39m soup\u001b[38;5;241m.\u001b[39mfind_all(\u001b[38;5;124m'\u001b[39m\u001b[38;5;124mtable\u001b[39m\u001b[38;5;124m'\u001b[39m)\n\u001b[0;32m---> 12\u001b[0m premier_tableau \u001b[38;5;241m=\u001b[39m tableaux[\u001b[38;5;241m1\u001b[39m]\n\u001b[1;32m     13\u001b[0m \u001b[38;5;66;03m# Stocker les données dans une liste\u001b[39;00m\n\u001b[1;32m     14\u001b[0m table_data \u001b[38;5;241m=\u001b[39m []\n",
      "\u001b[0;31mIndexError\u001b[0m: list index out of range"
     ]
    }
   ],
   "source": [
    "for i in range(0,len(links_equipes)):\n",
    "        essai_url = links_equipes[i]\n",
    "        #nom_equipe = split_link(links_equipes[i])\n",
    "        response_final = requests.get(essai_url)\n",
    "\n",
    "        if response_final.ok:\n",
    "            soup = BeautifulSoup(response_final.text, 'html.parser')\n",
    "            #Trouver le nom du jour\n",
    "            nom_joueurs = soup.find(\"h1\",{\"class\": \"player__title\"})\n",
    "            # Trouver le premier tableau sur la page\n",
    "            tableaux = soup.find_all('table')\n",
    "            premier_tableau = tableaux[1]\n",
    "            # Stocker les données dans une liste\n",
    "            table_data = []\n",
    "            if premier_tableau:\n",
    "                for row in premier_tableau.find_all('tr'):\n",
    "                    columns = row.find_all(['td', 'th'])\n",
    "                    row_data = [column.text.strip() for column in columns]\n",
    "                    row_data = pd.DataFrame(row_data)\n",
    "                    table_data.append(row_data)\n",
    "            else:\n",
    "                print(\"Aucun tableau trouvé sur la page.\")\n"
   ]
  },
  {
   "cell_type": "code",
   "execution_count": null,
   "id": "e4c67d5e",
   "metadata": {},
   "outputs": [],
   "source": [
    "tb = pd.DataFrame(table_data)\n",
    "tb.columns = tb.iloc[0]"
   ]
  },
  {
   "cell_type": "code",
   "execution_count": null,
   "id": "ed648105",
   "metadata": {},
   "outputs": [],
   "source": [
    "tb[\"Nom\"] = nom_joueurs"
   ]
  },
  {
   "cell_type": "code",
   "execution_count": null,
   "id": "21867b0e",
   "metadata": {},
   "outputs": [],
   "source": [
    "tb.iloc[15]"
   ]
  },
  {
   "cell_type": "code",
   "execution_count": null,
   "id": "97806850",
   "metadata": {},
   "outputs": [],
   "source": [
    "len(tb)"
   ]
  },
  {
   "cell_type": "code",
   "execution_count": null,
   "id": "3262cf59",
   "metadata": {},
   "outputs": [],
   "source": [
    "nom_fichier_excel = 'liste_joueuse_LFB.xlsx'\n",
    "for \n",
    "df.to_excel(nom_fichier_excel, index=False, sheet_name='Feuille1')"
   ]
  },
  {
   "cell_type": "code",
   "execution_count": null,
   "id": "f2f1b5f7",
   "metadata": {},
   "outputs": [],
   "source": []
  }
 ],
 "metadata": {
  "kernelspec": {
   "display_name": "Python 3 (ipykernel)",
   "language": "python",
   "name": "python3"
  },
  "language_info": {
   "codemirror_mode": {
    "name": "ipython",
    "version": 3
   },
   "file_extension": ".py",
   "mimetype": "text/x-python",
   "name": "python",
   "nbconvert_exporter": "python",
   "pygments_lexer": "ipython3",
   "version": "3.11.4"
  }
 },
 "nbformat": 4,
 "nbformat_minor": 5
}
